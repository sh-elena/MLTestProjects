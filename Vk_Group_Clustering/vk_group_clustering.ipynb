{
 "cells": [
  {
   "cell_type": "markdown",
   "metadata": {},
   "source": [
    "# Кластеризация групп в социальной сети ВКонтакте"
   ]
  },
  {
   "cell_type": "markdown",
   "metadata": {},
   "source": [
    "Для выгрузки полезных данных из групп было принято решения использовать библиотеку urlib2 для получения HTML-страниц для дальнейшего парсинга.\n",
    "Был рассмотрен вариант использования Vk API, но пропускная способность у API - 3 запроса в секунду, то есть обработка данных из 75к групп займет не менее 7 часов, именно поэтому выбран парсинг \"вручную\". "
   ]
  },
  {
   "cell_type": "code",
   "execution_count": 112,
   "metadata": {
    "collapsed": false
   },
   "outputs": [],
   "source": [
    "import urllib\n",
    "from urllib import request\n",
    "from bs4 import BeautifulSoup\n",
    "\n",
    "# с user-agent по дефолту страница открывается как мобильная версия\n",
    "opener = urllib.request.build_opener()\n",
    "opener.addheaders = [('User-Agent', 'Mozilla/5.0 (X11; U; Linux i686) Gecko/20071127 Firefox/2.0.0.11')]"
   ]
  },
  {
   "cell_type": "markdown",
   "metadata": {
    "collapsed": false
   },
   "source": [
    "\n",
    "Основные источники информации на странице группы:\n",
    "* название группы,\n",
    "* описание (если есть),\n",
    "* статус,\n",
    "* записи со стены,\n",
    "* комментарии пользователей к записям,\n",
    "* количество пользователей"
   ]
  },
  {
   "cell_type": "code",
   "execution_count": 113,
   "metadata": {
    "collapsed": false
   },
   "outputs": [],
   "source": [
    "class VkGroup:\n",
    "    \n",
    "    def __init__(self, name, wall_records, users_cnt, status=None, description=None, comments=None):\n",
    "        self.name = name\n",
    "        self.status = status\n",
    "        self.wall_records = wall_records\n",
    "        self.users_cnt = users_cnt  \n",
    "        self.description = description\n",
    "        self.comments = comments\n",
    "        \n",
    "    def get_full_text(self):\n",
    "        s = \"{} {} {}\".format(self.name, self.status, self.description)\n",
    "        for record in self.wall_records:\n",
    "            s += ' ' + record.strip()\n",
    "        if self.comments != \"\":\n",
    "            for com in self.comments:\n",
    "                s += ' ' + str(com)\n",
    "        return s\n",
    "        \n",
    "    def show(self):\n",
    "        print(\"Название группы: {} \\nСтатус: {} \\nОписание: {} \\nКоличество подписчиков: {}\\n\"\n",
    "                    .format(self.name, self.status, self.description, self.users_cnt))\n",
    "        \n",
    "    def __str__(self):\n",
    "        return (\"Название группы: {} \\nСтатус: {} \\nОписание: {} \\nКоличество подписчиков: {}\"\n",
    "                    .format(self.name, self.status, self.description, self.users_cnt))"
   ]
  },
  {
   "cell_type": "markdown",
   "metadata": {},
   "source": [
    "Считываем данные из подготовленного файла с id групп жителей Нижнего Новгорода:"
   ]
  },
  {
   "cell_type": "code",
   "execution_count": 114,
   "metadata": {
    "collapsed": true
   },
   "outputs": [],
   "source": [
    "with open('nn_community_stats.csv') as f:\n",
    "    indicies=f.read().splitlines()\n",
    "    \n",
    "links=list(map(lambda id:'http://vk.com/club' + id, indicies))"
   ]
  },
  {
   "cell_type": "markdown",
   "metadata": {},
   "source": [
    "## Выгрузка данных"
   ]
  },
  {
   "cell_type": "markdown",
   "metadata": {},
   "source": [
    "Для каждой страницы создается объект со всей необходимой информацией. Была реализована также параллельная загрузка (через Pool.map), однако, там была обнаружена проблема слишком пустых HTML-страниц (видимо, связанная с тем, что vk.com просто не успевает отдать страницу), поэтому необходимо подождать последовательной загрузки."
   ]
  },
  {
   "cell_type": "code",
   "execution_count": 115,
   "metadata": {
    "collapsed": false
   },
   "outputs": [
    {
     "name": "stdout",
     "output_type": "stream",
     "text": [
      "Успешно обработано 196 страниц сообществ\n"
     ]
    }
   ],
   "source": [
    "import os\n",
    "\n",
    "# получение текста из элемента страницы\n",
    "def get_text_safe(soup, selector):\n",
    "    elem = soup.select_one(selector)\n",
    "    return elem.get_text() if elem is not None else \"\"\n",
    "    \n",
    "\n",
    "# проверка, не заблокированна ли группа\n",
    "def valid_page(soup):\n",
    "    block_div = soup.select_one(\".groups_blocked\")\n",
    "    private_group_div = soup.select_one(\".group_info_private\")\n",
    "    return True if block_div is None and private_group_div is None else False\n",
    "\n",
    "# парсинг страницы\n",
    "def parse_page(soup):\n",
    "    # название группы и статус\n",
    "    group_name = get_text_safe(soup, \".page_name\")\n",
    "    status = get_text_safe(soup, \"#page_current_info\")\n",
    "    \n",
    "    # посты на стене с текстом\n",
    "    wall_records = soup.select(\".wall_text\")\n",
    "    text_wall_records = [rec.get_text() for rec in wall_records if rec.get_text() != \"\"]\n",
    "\n",
    "    # описание и количество пользователей\n",
    "    descr = get_text_safe(soup, \".labeled_text\")\n",
    "    users_cnt = get_text_safe(soup, \".header_count.fl_l\")\n",
    "    \n",
    "    comments = soup.select(\".wall_reply_text\")\n",
    "    text_comments = [com.get_text() for com in comments if com.get_text() != \"\"]\n",
    "    return VkGroup(group_name, text_wall_records, users_cnt, status, descr, text_comments)\n",
    "\n",
    "def write_to_file(filename, link):\n",
    "    with open(filename, 'a') as f:\n",
    "        f.write(link + '\\n')\n",
    "\n",
    "# очистка логов перед новым запуском\n",
    "def remove_log(path):\n",
    "    try:\n",
    "        os.remove(path)\n",
    "    except OSError:\n",
    "        pass\n",
    "    \n",
    "# функция для формирования массива объектов класса VKGroup\n",
    "# URL-ы с невалидными и заблокированными/приватными группами записываются в соответствующие логи\n",
    "# очистка log-файлов перед запуском\n",
    "good_links=[]\n",
    "cnt = 0\n",
    "blocked_urls_log = \"blocked_urls.log\"\n",
    "invalid_urls_log = \"invalid_urls.log\"\n",
    "unexpected_err_log = \"unexpected_errors.log\"\n",
    "remove_log(blocked_urls_log)\n",
    "remove_log(invalid_urls_log)\n",
    "remove_log(unexpected_err_log)\n",
    "def get_groups(link):\n",
    "    try:\n",
    "        page = opener.open(link)\n",
    "        soup_page = BeautifulSoup(page, 'html.parser')\n",
    "        global cnt\n",
    "        cnt += 1\n",
    "        if (cnt%1000 == 0):\n",
    "            print(\"Обработанно {} групп\".format(cnt))\n",
    "        if valid_page(soup_page):\n",
    "            vk_group = parse_page(soup_page)\n",
    "            #vk_group.show()\n",
    "            good_links.append(link)\n",
    "            return vk_group.get_full_text().strip()\n",
    "        else:\n",
    "            write_to_file(blocked_urls_log, link)\n",
    "    except urllib.error.HTTPError as e:\n",
    "        write_to_file(invalid_urls_log, \"HTTP error status {} for group {}\".format(e.code, link))\n",
    "    except Exception as e:\n",
    "        print(\"Unexpected error!\")\n",
    "        write_to_file(unexpected_err_log, link + ':\\n' + e)\n",
    "    return None\n",
    " \n",
    "all_groups = map(get_groups, [links[i] for i in range(200)])  # ЗАМЕНИТЬ range НА links ДЛЯ ТЕСТА НА ВСЕЙ ВЫБОРКЕ\n",
    "groups = [group for group in all_groups if group]\n",
    "print(\"Успешно обработано {} страниц сообществ\".format(len(groups)))"
   ]
  },
  {
   "cell_type": "markdown",
   "metadata": {
    "collapsed": true
   },
   "source": [
    "Теперь можно перейти к решению непосредственно самой задачи.\n",
    "<br>Для кластеризации сообществ необходимо векторизовать слова, для этого было решено проделать следующую цепочку действий:\n",
    "    1. Очищаем текст и разбиваем на токены\n",
    "    2. Удаляем стоп-слова\n",
    "    3. Выделяем корни слов (для избежания проблем с различной формой слова)\n",
    "    4. Используем TF-IDF векторизацию"
   ]
  },
  {
   "cell_type": "markdown",
   "metadata": {},
   "source": [
    "## Очистка текста и разбиение на токены"
   ]
  },
  {
   "cell_type": "markdown",
   "metadata": {},
   "source": [
    "Для подготовки слов для векторизации необходимо разделить текст на массив токенов, убираем стоп-слова и выделяем корни. Эксперементально было выявленно, что выделение корней значительно (на 10-15%) повышает качество кластеризации."
   ]
  },
  {
   "cell_type": "code",
   "execution_count": 116,
   "metadata": {
    "collapsed": false
   },
   "outputs": [],
   "source": [
    "import nltk\n",
    "from nltk.corpus import stopwords\n",
    "from nltk.tokenize import RegexpTokenizer\n",
    "from nltk.stem.snowball import RussianStemmer\n",
    "import numpy as np\n",
    "\n",
    "# Необходимо скачать доп. пакеты для использования корпусов nltk (panlex lite не нужен), \n",
    "# если еще не скачены\n",
    "# nltk.download()\n",
    "\n",
    "# типичные для vk стоп-слова\n",
    "custom_stopwords={\"эт\", \"прост\", \"сегодн\",  \"время\", \"cc\", \"котор\", \"com\", \"наш\", \"групп\", \"vk\",\n",
    "                  \"ден\", \"год\", \"ru\", \"сво\" ,\"сам\", \"ваш\" , \"https\", \"www\", \"http\", \"полност\", \n",
    "                  \"показа\",  \"очен\", \"gif\", \"feat\"}\n",
    "# Очистка текста\n",
    "def filter_words(text):\n",
    "    text = text.lower()\n",
    "    tokenizer = RegexpTokenizer(r'[а-яa-z]+')\n",
    "    tokens = tokenizer.tokenize(text)\n",
    "    filtered_tokens = [word for word in tokens if not word in set(stopwords.words('russian')) \n",
    "                                                   and not word in set(stopwords.words('english'))]\n",
    "    return filtered_tokens\n",
    "\n",
    "# Выделение корней\n",
    "def stem_tokens(text):\n",
    "    stemmer = RussianStemmer()\n",
    "    tokens= filter_words(text)\n",
    "    stemmed_words= [stemmer.stem(token) for token in tokens if not stemmer.stem(token) in custom_stopwords]\n",
    "    return stemmed_words"
   ]
  },
  {
   "cell_type": "markdown",
   "metadata": {},
   "source": [
    "## Кластеризация на основе TF-IDF векторизации"
   ]
  },
  {
   "cell_type": "markdown",
   "metadata": {},
   "source": [
    "Для начала был использован классический подход представления текста в группах в виде разреженной матрицы, строками которой являются текста групп, а столбцами - все слова во всех текстах. Для повышения качества мы используем не самый простой подход с подсчетом количества встречаний слова в текста в качестве значения элемента матрицы, а TF-IDF алгоритм."
   ]
  },
  {
   "cell_type": "code",
   "execution_count": 117,
   "metadata": {
    "collapsed": false
   },
   "outputs": [
    {
     "name": "stdout",
     "output_type": "stream",
     "text": [
      "TF-IDF векторизация прошла успешно\n"
     ]
    }
   ],
   "source": [
    "from sklearn.feature_extraction.text import TfidfVectorizer\n",
    "\n",
    "# Векторизация слов\n",
    "tfidf = TfidfVectorizer(tokenizer=stem_tokens)\n",
    "tfs = tfidf.fit_transform(groups)      \n",
    "print('TF-IDF векторизация прошла успешно')"
   ]
  },
  {
   "cell_type": "markdown",
   "metadata": {
    "collapsed": true
   },
   "source": [
    "Наконец, перейдем к кластеризации. Был использован метод мягкой кластеризации c-means."
   ]
  },
  {
   "cell_type": "code",
   "execution_count": 118,
   "metadata": {
    "collapsed": false
   },
   "outputs": [
    {
     "name": "stdout",
     "output_type": "stream",
     "text": [
      "FPC: 0.500000000268783, число кластеров: 2\n",
      "FPC: 0.3333333335398415, число кластеров: 3\n",
      "FPC: 0.25000000014494883, число кластеров: 4\n",
      "FPC: 0.20000000005668048, число кластеров: 5\n",
      "FPC: 0.16666666672524355, число кластеров: 6\n",
      "FPC: 0.14285714293094176, число кластеров: 7\n",
      "FPC: 0.12500000003343206, число кластеров: 8\n",
      "FPC: 0.111111111194875, число кластеров: 9\n",
      "FPC: 0.10000000003545317, число кластеров: 10\n",
      "FPC: 0.09090909094447036, число кластеров: 11\n",
      "FPC: 0.08333333336738437, число кластеров: 12\n",
      "FPC: 0.07692307694314053, число кластеров: 13\n",
      "FPC: 0.07142857146494071, число кластеров: 14\n",
      "Количество кластеров при максимальном FPC (0.500000000268783): 2\n"
     ]
    }
   ],
   "source": [
    "import skfuzzy\n",
    "\n",
    "vectorized_data = tfs.T.toarray()\n",
    "max_fpc = 0\n",
    "max_fpc_cluster_cnt = 0\n",
    "\n",
    "for i in np.arange(2, 15):\n",
    "    cntr, u, u0, d, jm, p, fpc = skfuzzy.cmeans(vectorized_data, i, 2., error=0.005, maxiter=100, init=None)\n",
    "    print('FPC: {}, число кластеров: {}'.format(fpc, i))\n",
    "    if (fpc > max_fpc):\n",
    "        max_fpc = fpc\n",
    "        max_fpc_cluster_cnt = i\n",
    "        \n",
    "# используем количество кластеров с лучшим показателем fpc\n",
    "print(\"Количество кластеров при максимальном FPC ({}): {}\".format(max_fpc, max_fpc_cluster_cnt))\n",
    "cntr, u_tfs, u0, d, jm, p, fpc_tfs = skfuzzy.cmeans(vectorized_data, max_fpc_cluster_cnt, 2., error=0.005, maxiter=100, init=None)"
   ]
  },
  {
   "cell_type": "markdown",
   "metadata": {},
   "source": [
    "Как мы видим, тексты практически равновероятно принадлежат различным кластерам (в зависимости от количества кластеров). Видимо, данных недостаточно для такой мерности пространства и, выбирая новую точку в кластере, она все равно оказывается очень далеко от остальных точек.\n",
    "<br>Попробуем проделать то же самое с word2vec."
   ]
  },
  {
   "cell_type": "markdown",
   "metadata": {},
   "source": [
    "## Word2Vec векторизация"
   ]
  },
  {
   "cell_type": "markdown",
   "metadata": {},
   "source": [
    "Преимуществом word2vec является то, что в результате векторизации получается не разреженная матрица, а матрица гораздо меньшего размера (обычно от 100 до 400) и, таким образом, мерность пространства, в котором высчитывается косинусное расстояние между векторами гораздо меньше. Теоретически означает, что данный подход должен работать лучше с меньшими объемами данных. Также, используем алгоритм кластеризации хуже работает с векторами в пространстве очень большой размерности. "
   ]
  },
  {
   "cell_type": "markdown",
   "metadata": {},
   "source": [
    "Сперва, на основе текстов была создана модель:"
   ]
  },
  {
   "cell_type": "code",
   "execution_count": 119,
   "metadata": {
    "collapsed": false
   },
   "outputs": [
    {
     "name": "stdout",
     "output_type": "stream",
     "text": [
      "Модель word2vec успешно построена на основе полученных текстовых данных\n"
     ]
    }
   ],
   "source": [
    "import gensim\n",
    "from multiprocessing import cpu_count\n",
    "\n",
    "# составляем массив слов и обучаем модель\n",
    "num_features = 100\n",
    "sentences = [stem_tokens(sentence) for sentence in groups]\n",
    "model = gensim.models.Word2Vec(sentences, size=num_features, window=5, min_count=3, workers=cpu_count())\n",
    "print(\"Модель word2vec успешно построена на основе полученных текстовых данных\")"
   ]
  },
  {
   "cell_type": "markdown",
   "metadata": {},
   "source": [
    "Затем, для каждой группы получен усредненный вектор. Массив таких векторов транспонируется для дальнейшего использования в алгоритме кластеризации:"
   ]
  },
  {
   "cell_type": "code",
   "execution_count": 120,
   "metadata": {
    "collapsed": false
   },
   "outputs": [
    {
     "name": "stdout",
     "output_type": "stream",
     "text": [
      "Создание усредненных векторов для групп завершено успешно\n"
     ]
    }
   ],
   "source": [
    "import skfuzzy\n",
    "\n",
    "# получаем вектор для группы на основе векторизированных представлений слов\n",
    "def get_vec_for_group(words):\n",
    "    vec = np.zeros((num_features,),dtype=\"float32\")\n",
    "    num_words = 0.\n",
    "    # set используется для увеличения производительности\n",
    "    index2word_set = set(model.index2word)\n",
    "    for word in words:\n",
    "        if word in index2word_set: \n",
    "            num_words += 1.\n",
    "            vec = np.add(vec, model[word])\n",
    "    # получаем среднее\n",
    "    if num_words != 0:\n",
    "        vec = np.divide(vec, num_words)\n",
    "    return vec\n",
    "\n",
    "vectorized_data_w2v = np.array([get_vec_for_group(sentence) for sentence in sentences if sentence])\n",
    "vectorized_data_w2v = vectorized_data_w2v.T\n",
    "\n",
    "print(\"Создание усредненных векторов для групп завершено успешно\")"
   ]
  },
  {
   "cell_type": "markdown",
   "metadata": {},
   "source": [
    "Далее применяем метод кластеризации и определяем количество кластеров:"
   ]
  },
  {
   "cell_type": "code",
   "execution_count": 121,
   "metadata": {
    "collapsed": false
   },
   "outputs": [
    {
     "name": "stdout",
     "output_type": "stream",
     "text": [
      "FPC: 0.7793884119838619, число кластеров: 2\n",
      "FPC: 0.7829215872952942, число кластеров: 3\n",
      "FPC: 0.7330964423852016, число кластеров: 4\n",
      "FPC: 0.7414231883743124, число кластеров: 5\n",
      "FPC: 0.7410800317960238, число кластеров: 6\n",
      "FPC: 0.7425432142184444, число кластеров: 7\n",
      "FPC: 0.7415271725280481, число кластеров: 8\n",
      "FPC: 0.7165910247615835, число кластеров: 9\n",
      "FPC: 0.7090214638581579, число кластеров: 10\n",
      "FPC: 0.715158980654623, число кластеров: 11\n",
      "FPC: 0.6847706621986754, число кластеров: 12\n",
      "FPC: 0.6886265900517585, число кластеров: 13\n",
      "FPC: 0.6898868537663512, число кластеров: 14\n",
      "Количество кластеров при максимальном FPC (0.7829215872952942): 3\n"
     ]
    }
   ],
   "source": [
    "# Кластеризуем методом C-means  \n",
    "max_fpc = 0\n",
    "max_fpc_cluster_cnt = 0\n",
    "for i in range(2, 15): \n",
    "    cntr, u2, u0, d, jm, p, fpc = skfuzzy.cmeans(vectorized_data_w2v, i, 2., error=0.005, maxiter=1000, init=None)\n",
    "    print('FPC: {}, число кластеров: {}'.format(fpc, i))\n",
    "    if (fpc > max_fpc):\n",
    "        max_fpc = fpc\n",
    "        max_fpc_cluster_cnt = i\n",
    "\n",
    "#Применяем кластеризацию с лучшим показателем fpc\n",
    "print(\"Количество кластеров при максимальном FPC ({}): {}\".format(max_fpc, max_fpc_cluster_cnt))\n",
    "cntr, u_w2v, u0, d, jm, p, fpc_w2v = skfuzzy.cmeans(vectorized_data_w2v, max_fpc_cluster_cnt, 2., error=0.005, maxiter=1000, init=None)"
   ]
  },
  {
   "cell_type": "markdown",
   "metadata": {},
   "source": [
    "## Отображение результатов"
   ]
  },
  {
   "cell_type": "markdown",
   "metadata": {},
   "source": [
    "Отнесем групп к кластерам, к которым они принадлежат с наибольшей вероятностью:"
   ]
  },
  {
   "cell_type": "code",
   "execution_count": 122,
   "metadata": {
    "collapsed": true
   },
   "outputs": [],
   "source": [
    "def get_cluster_labels(u):\n",
    "    labels=[]\n",
    "    m = u.shape[1]\n",
    "    n = u.shape[0]\n",
    "    for j in range(m):\n",
    "        maxi = 0\n",
    "        mx = u[0][j]\n",
    "        for i in range(n):\n",
    "            if u[i][j] >= mx:\n",
    "                mx = u[i][j]\n",
    "                maxi=i\n",
    "        labels.append(maxi)\n",
    "    return labels"
   ]
  },
  {
   "cell_type": "markdown",
   "metadata": {},
   "source": [
    "Для того, чтобы отобразить полученные результаты в двумерном пространстве был применен **метод главных компонент (PCA)** для уменьшение размерности с минимальными потерями информации:"
   ]
  },
  {
   "cell_type": "code",
   "execution_count": 123,
   "metadata": {
    "collapsed": false
   },
   "outputs": [
    {
     "data": {
      "image/png": "[encoded data removed]",
      "text/plain": [
       "<matplotlib.figure.Figure at 0x10be433c8>"
      ]
     },
     "metadata": {},
     "output_type": "display_data"
    },
    {
     "data": {
      "image/png": "[encoded data removed]",
      "text/plain": [
       "<matplotlib.figure.Figure at 0x10be430b8>"
      ]
     },
     "metadata": {},
     "output_type": "display_data"
    }
   ],
   "source": [
    "from sklearn.decomposition import PCA\n",
    "import matplotlib.pyplot as plt\n",
    "%matplotlib inline\n",
    "\n",
    "densed_tfs_data = tfs.todense()\n",
    "data2D_tfs = PCA(n_components=2).fit_transform(densed_tfs_data)\n",
    "data2D_w2v = PCA(n_components=2).fit_transform(vectorized_data_w2v.T)\n",
    "\n",
    "def visualization(u, data2D, title, fpc):\n",
    "    colors = ['b', 'orange', 'g', 'r', 'c', 'm', 'y', 'k', 'Brown', 'ForestGreen', 'magenta', 'cyan']\n",
    "    labels = get_cluster_labels(u)\n",
    "    data2D = np.array(data2D)\n",
    "    labels = np.array(labels)\n",
    "    fig0, ax0 = plt.subplots()\n",
    "    for label in labels:\n",
    "        ax0.plot(data2D[labels == label, 0],data2D[labels == label,1], '.',\n",
    "                 color=colors[label])\n",
    "    fpc_str = \"{0:.4f}\".format(fpc)\n",
    "    ax0.set_title('{}, FPC = {}, {} points, {} clusters'.format(title, fpc_str, data2D.shape[0], u.shape[0]))\n",
    "    \n",
    "visualization(u_tfs, data2D_tfs, \"TF-IDF\", fpc_tfs)\n",
    "visualization(u_w2v, data2D_w2v, \"Word2Vec\", fpc_w2v)"
   ]
  },
  {
   "cell_type": "markdown",
   "metadata": {},
   "source": [
    "Таким образом, мы видим, что на имеющихся объемах данных лучше себя показывает word2vec. Далее будем использовать эти результы для определения тематики:"
   ]
  },
  {
   "cell_type": "code",
   "execution_count": 124,
   "metadata": {
    "collapsed": true
   },
   "outputs": [],
   "source": [
    "u_final = u_w2v"
   ]
  },
  {
   "cell_type": "markdown",
   "metadata": {},
   "source": [
    "Для интереса можно вывести еще несколько вариантов кластеризации от word2vec:"
   ]
  },
  {
   "cell_type": "code",
   "execution_count": 125,
   "metadata": {
    "collapsed": false
   },
   "outputs": [
    {
     "data": {
      "image/png": "[encoded data removed]",
      "text/plain": [
       "<matplotlib.figure.Figure at 0x10c0a6048>"
      ]
     },
     "metadata": {},
     "output_type": "display_data"
    },
    {
     "data": {
      "image/png": "[encoded data removed]",
      "text/plain": [
       "<matplotlib.figure.Figure at 0x10c0afac8>"
      ]
     },
     "metadata": {},
     "output_type": "display_data"
    },
    {
     "data": {
      "image/png": "[encoded data removed]",
      "text/plain": [
       "<matplotlib.figure.Figure at 0x11250b9e8>"
      ]
     },
     "metadata": {},
     "output_type": "display_data"
    },
    {
     "data": {
      "image/png": "[encoded data removed]",
      "text/plain": [
       "<matplotlib.figure.Figure at 0x1064abc18>"
      ]
     },
     "metadata": {},
     "output_type": "display_data"
    }
   ],
   "source": [
    "for i in np.arange(3,13,3):\n",
    "    cntr, u2, u0, d, jm, p, fpc = skfuzzy.cmeans(vectorized_data_w2v, i, 2., error=0.005, maxiter=1000, init=None)\n",
    "    data2D_w2v = PCA(n_components=2).fit_transform(vectorized_data_w2v.T)\n",
    "    visualization(u2, data2D_w2v, \"Word2Vec\", fpc)"
   ]
  },
  {
   "cell_type": "markdown",
   "metadata": {},
   "source": [
    "## Определение тематики"
   ]
  },
  {
   "cell_type": "markdown",
   "metadata": {},
   "source": [
    "Для выявление тематики в полученных кластерах был использован метод **латентного размещения Дирихле (LDA)**:"
   ]
  },
  {
   "cell_type": "code",
   "execution_count": 126,
   "metadata": {
    "collapsed": false
   },
   "outputs": [
    {
     "name": "stdout",
     "output_type": "stream",
     "text": [
      "Темы для кластера № 1\n",
      "(18, '0.069*осен + 0.044*врем + 0.037*урож + 0.037*лочк + 0.033*utzih + 0.029*сен + 0.022*люб + 0.022*сердечк + 0.022*ставьт + 0.011*цвет')\n",
      "(56, '0.023*выйд + 0.023*девушк + 0.012*люд + 0.012*так + 0.012*друг + 0.012*дела + 0.012*кажд + 0.012*цен + 0.012*трат + 0.012*хочеш')\n",
      "(11, '0.000*жизн + 0.000*люд + 0.000*кажд + 0.000*друг + 0.000*отношен + 0.000*постоя + 0.000*человек + 0.000*сложн + 0.000*част + 0.000*момент')\n",
      "(65, '0.000*приложен + 0.000*iphon + 0.000*нов + 0.000*ссылк + 0.000*люд + 0.000*сообщен + 0.000*счастлив + 0.000*люб + 0.000*скача + 0.000*созда')\n",
      "(32, '0.025*втор + 0.019*слаб + 0.019*гениальн + 0.017*тех + 0.017*добр + 0.016*жизн + 0.014*лиш + 0.013*мно + 0.013*половинк + 0.013*мо')\n",
      "\n",
      "\n",
      "Темы для кластера № 2\n",
      "(69, '0.018*iphon + 0.013*коп + 0.013*час + 0.011*дал + 0.010*мужск + 0.010*качеств + 0.010*рубл + 0.009*id + 0.008*теб + 0.008*пост')\n",
      "(63, '0.000*друг + 0.000*мир + 0.000*работ + 0.000*ярмарк + 0.000*так + 0.000*масл + 0.000*нужн + 0.000*водол + 0.000*жизн + 0.000*люд')\n",
      "(21, '0.012*час + 0.012*происход + 0.008*макарон + 0.008*существ + 0.008*парен + 0.008*волос + 0.008*истор + 0.008*кат + 0.008*взросл + 0.008*кофейн')\n",
      "(2, '0.032*фот + 0.029*жит + 0.028*g + 0.027*заработа + 0.027*недел + 0.027*нача + 0.026*запабатыва + 0.026*тыт + 0.026*заработок + 0.026*никогд')\n",
      "(29, '0.039*вопрос + 0.025*образован + 0.025*важн + 0.021*ответ + 0.019*tv + 0.019*эфир + 0.016*калин + 0.016*москвич + 0.016*образовательн + 0.016*mosobr')\n",
      "\n",
      "\n",
      "Темы для кластера № 3\n",
      "(77, '0.000*билет + 0.000*mil + 0.000*нижн + 0.000*concert + 0.000*друг + 0.000*ноч + 0.000*октябр + 0.000*нов + 0.000*hall + 0.000*марс')\n",
      "(68, '0.000*час + 0.000*дом + 0.000*одн + 0.000*iphon + 0.000*друг + 0.000*мо + 0.000*сдела + 0.000*стал + 0.000*слез + 0.000*особ')\n",
      "(85, '0.016*приложен + 0.016*заряжа + 0.016*скидк + 0.016*устройств + 0.008*кажд + 0.008*лет + 0.008*вещ + 0.008*должн + 0.008*час + 0.008*страниц')\n",
      "(48, '0.000*друг + 0.000*марс + 0.000*частиц + 0.000*люд + 0.000*вопрос + 0.000*жизн + 0.000*должн + 0.000*ноч + 0.000*стал + 0.000*деньг')\n",
      "(24, '0.000*друг + 0.000*bacter + 0.000*е + 0.000*рпц + 0.000*дом + 0.000*слов + 0.000*лет + 0.000*звон + 0.000*запрет + 0.000*человек')\n",
      "\n",
      "\n"
     ]
    }
   ],
   "source": [
    "from gensim import corpora, models\n",
    "\n",
    "# получаем темы для каждого кластера\n",
    "labels = get_cluster_labels(u_final)\n",
    "labels_arr = np.array(labels)\n",
    "sentences_arr = np.array(sentences)\n",
    "for label in range(u_final.shape[0]):\n",
    "    # превращаем токенизированные документы в id <-> term словарь\n",
    "    cluster_sentences = sentences_arr[labels_arr == label]\n",
    "    dictionary = corpora.Dictionary(cluster_sentences)\n",
    "    corpus = list(map(dictionary.doc2bow, cluster_sentences))\n",
    "    # создаем модель на основе предложений в кластере\n",
    "    ldamodel = gensim.models.ldamodel.LdaModel(corpus, num_topics=100, id2word = dictionary, passes=20) \n",
    "    print(\"Темы для кластера № \" + str(label + 1))\n",
    "    map(print, ldamodel.print_topics(5))\n",
    "    for topic in ldamodel.print_topics(5):\n",
    "        print(topic)\n",
    "    print('\\n')"
   ]
  },
  {
   "cell_type": "markdown",
   "metadata": {},
   "source": [
    "Результат выполнения предыдущей ячейки - 5 строк для каждого кластера, которые представляют собой 5 тем (их легко понять по содержимому строк)."
   ]
  },
  {
   "cell_type": "markdown",
   "metadata": {
    "collapsed": true
   },
   "source": [
    "# Подведение итогов"
   ]
  },
  {
   "cell_type": "markdown",
   "metadata": {},
   "source": [
    "В ходе выполнения задания было выявленно, что:\n",
    "1. векторизация слов  c помощью word2vec справляется лучше, чем векторизация методом TF-IDF\n",
    "при большом количестве точек со сложной зависимостью\n",
    "2. метод мягкой кластеризации c-means достаточно точно выявляет зависимости между группами и кластеризует\n",
    "3. для визуализации данных прекрасно подходит метод сжатия данных PCA\n",
    "4. подбор темы для кластера является весьма нелегкой задачей, так как в  интерен-ресурсах слишком много \"мусорных\" слов \n",
    "и пространство возможных тем для общения и публикации слишком обширное\n"
   ]
  },
  {
   "cell_type": "code",
   "execution_count": 127,
   "metadata": {
    "collapsed": false
   },
   "outputs": [],
   "source": [
    "# строим массив вероятностей принадлежностей каждой группе к каждому кластеру \n",
    "#(полученный на основе word2vec векторизации и кластеризации c-means)\n",
    "probs = np.ones(u_final.shape).T\n",
    "for  i in range (u_final.shape[1]):\n",
    "    probs[i] = u_final[:,i]\n",
    "    "
   ]
  },
  {
   "cell_type": "code",
   "execution_count": 129,
   "metadata": {
    "collapsed": false
   },
   "outputs": [
    {
     "name": "stdout",
     "output_type": "stream",
     "text": [
      "Словарь с результатами сформирован. Все результаты можно посмотреть в файле results.log или обращаться по URL-у непосредственно в Ipython в формате result[<publics url>]\n"
     ]
    }
   ],
   "source": [
    "#оформляем результат в формате словаря ссылка:вероятности\n",
    "result = dict()\n",
    "i = 0\n",
    "for link in good_links:\n",
    "    result[link] = probs[i]\n",
    "    i += 1\n",
    "    \n",
    "# запишем результаты в файл\n",
    "results_log = \"results.log\"\n",
    "remove_log(results_log)\n",
    "result_str = \"\"\n",
    "for key, value in result.items():\n",
    "    result_str += \"{} : {}\\n\".format(key, value)\n",
    "write_to_file(results_log, result_str)\n",
    "print(\"Словарь с результатами сформирован. Все результаты можно посмотреть в файле results.log \" +\n",
    "      \"или обращаться по URL-у непосредственно в Ipython в формате result[<publics url>]\")"
   ]
  }
 ],
 "metadata": {
  "kernelspec": {
   "display_name": "Python 3",
   "language": "python",
   "name": "python3"
  },
  "language_info": {
   "codemirror_mode": {
    "name": "ipython",
    "version": 3
   },
   "file_extension": ".py",
   "mimetype": "text/x-python",
   "name": "python",
   "nbconvert_exporter": "python",
   "pygments_lexer": "ipython3",
   "version": "3.5.1"
  }
 },
 "nbformat": 4,
 "nbformat_minor": 0
}
