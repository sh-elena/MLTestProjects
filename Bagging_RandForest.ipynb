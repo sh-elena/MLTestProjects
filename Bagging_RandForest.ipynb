{
 "cells": [
  {
   "cell_type": "markdown",
   "metadata": {},
   "source": [
    "# Бэггинг и случайный лес"
   ]
  },
  {
   "cell_type": "code",
   "execution_count": 33,
   "metadata": {
    "collapsed": false
   },
   "outputs": [],
   "source": [
    "from sklearn import cross_validation, datasets, metrics, tree, ensemble\n",
    "import matplotlib\n",
    "from matplotlib import pyplot as plt\n",
    "import numpy as np\n",
    "import pandas as pd\n",
    "matplotlib.style.use('ggplot')\n",
    "%matplotlib inline"
   ]
  },
  {
   "cell_type": "markdown",
   "metadata": {},
   "source": [
    "** Загрузим датасет digits из sklearn.datasts. Подготовим матрицу признаков X и ответы на обучающей выборке y.**"
   ]
  },
  {
   "cell_type": "code",
   "execution_count": 9,
   "metadata": {
    "collapsed": true
   },
   "outputs": [],
   "source": [
    "digits = datasets.load_digits()"
   ]
  },
  {
   "cell_type": "code",
   "execution_count": 10,
   "metadata": {
    "collapsed": false
   },
   "outputs": [],
   "source": [
    "y= digits.target\n",
    "X= digits.data"
   ]
  },
  {
   "cell_type": "markdown",
   "metadata": {},
   "source": [
    "Для оценки качества далее будем использовать cross_val_score из sklearn.cross_validation с параметром cv=10. Эта функция реализует k-fold cross validation c k равным значению параметра cv. Использем k=10, чтобы полученные оценки качества имели небольшой разброс, и было проще проверить полученные ответы. Функция cross_val_score будет возвращать numpy.ndarray, в котором будет k чисел - качество в каждом из k экспериментов k-fold cross validation. Для получения среднего значения (которое и будет оценкой качества работы) используем метод .mean() у массива, который возвращает cross_val_score."
   ]
  },
  {
   "cell_type": "code",
   "execution_count": 15,
   "metadata": {
    "collapsed": false
   },
   "outputs": [],
   "source": [
    "def kachestvo(estimator):\n",
    "    return cross_validation.cross_val_score(estimator,X,y,cv=10).mean()\n",
    "\n",
    "def write_answer(res, i):\n",
    "    with open('bagging_{}.txt'.format(i), 'w') as f:\n",
    "        f.write(str(kachestvo(res)))"
   ]
  },
  {
   "cell_type": "markdown",
   "metadata": {},
   "source": [
    "** 1. Создадим DecisionTreeClassifier с настройками по умолчанию и измерим качество его работы. Ответ запишем. **"
   ]
  },
  {
   "cell_type": "code",
   "execution_count": 16,
   "metadata": {
    "collapsed": false
   },
   "outputs": [],
   "source": [
    "clf = tree.DecisionTreeClassifier(random_state=1)\n",
    "write_answer(clf, 1)"
   ]
  },
  {
   "cell_type": "markdown",
   "metadata": {},
   "source": [
    "** 2. Воспользуемся BaggingClassifier из sklearn.ensemble, чтобы обучить бэггинг над DecisionTreeClassifier. Используем в BaggingClassifier параметры по умолчанию, задав только количество деревьев равным 100. Оценим качество, ответ запишем. **"
   ]
  },
  {
   "cell_type": "code",
   "execution_count": 17,
   "metadata": {
    "collapsed": false
   },
   "outputs": [],
   "source": [
    "clf2= ensemble.BaggingClassifier(n_estimators=100)\n",
    "write_answer(clf2, 2)"
   ]
  },
  {
   "cell_type": "markdown",
   "metadata": {},
   "source": [
    "** 3. Теперь выберем параметры BaggingClassifier такими, чтобы каждый базовый алгоритм обучался не на всех d признаках, а на $$\\sqrt d$$случайных признаков. Качество работы получившегося классификатора - ответ в пункте 3. Корень из числа признаков - часто используемая эвристика в задачах классификации, в задачах регрессии же часто берут число признаков, деленное на три.**"
   ]
  },
  {
   "cell_type": "code",
   "execution_count": 18,
   "metadata": {
    "collapsed": false
   },
   "outputs": [],
   "source": [
    "n_features= X.shape[1]\n",
    "clf3=ensemble.BaggingClassifier(n_estimators=100, max_features=int(np.sqrt(n_features)))\n",
    "write_answer(clf3, 3)"
   ]
  },
  {
   "cell_type": "markdown",
   "metadata": {},
   "source": [
    "** 4. Наконец, давайте попробуем выбирать случайные признаки не один раз на все дерево, а при построении каждой вершины дерева. Выбираем опять же $$\\sqrt d$$ признаков. Качество полученного классификатора на контрольной выборке и будет ответом в пункте 4. **"
   ]
  },
  {
   "cell_type": "code",
   "execution_count": 19,
   "metadata": {
    "collapsed": false
   },
   "outputs": [],
   "source": [
    "clf4=ensemble.BaggingClassifier(base_estimator=tree.DecisionTreeClassifier(max_features='sqrt'), n_estimators=100)\n",
    "write_answer(clf4, 4)"
   ]
  },
  {
   "cell_type": "markdown",
   "metadata": {},
   "source": [
    "** Полученный в пункте 4 классификатор - бэггинг на рандомизированных деревьях (в которых при построении каждой вершины выбирается случайное подмножество признаков и разбиение ищется только по ним). Это в точности соответствует алгоритму Random Forest, поэтому почему бы не сравнить качество работы классификатора с RandomForestClassifier из sklearn.ensemble. Сделаем это, а затем изучим, как качество классификации на данном датасете зависит от количества деревьев, количества признаков, выбираемых при построении каждой вершины дерева, а также ограничений на глубину дерева.** ."
   ]
  },
  {
   "cell_type": "code",
   "execution_count": 34,
   "metadata": {
    "collapsed": false
   },
   "outputs": [
    {
     "data": {
      "image/png": "[encoded data removed]",
      "text/plain": [
       "<matplotlib.figure.Figure at 0xb35ce10>"
      ]
     },
     "metadata": {},
     "output_type": "display_data"
    }
   ],
   "source": [
    "x_labels = []\n",
    "y_labels = []\n",
    "for i in [5, 10, 15, 50, 150, 300]:\n",
    "    x_labels.append(i)\n",
    "    rand_forest = ensemble.RandomForestClassifier(n_estimators=i)\n",
    "    y_labels.append(kachestvo(rand_forest))\n",
    "    \n",
    "plt.plot(x_labels, y_labels)\n",
    "plt.title('Number of trees test')\n",
    "plt.xlabel('Number of trees')\n",
    "plt.ylabel('Quality score %')\n",
    "plt.show()\n"
   ]
  },
  {
   "cell_type": "code",
   "execution_count": null,
   "metadata": {
    "collapsed": true
   },
   "outputs": [],
   "source": [
    "x_labels = []\n",
    "y_labels = []\n",
    "for i in range(4, 60):\n",
    "    x_labels.append(i)\n",
    "    rand_forest = ensemble.RandomForestClassifier(max_features=i)\n",
    "    y_labels.append(kachestvo(rand_forest))\n",
    "    \n",
    "plt.plot(x_labels, y_labels)\n",
    "plt.title('Max features test')\n",
    "plt.xlabel('Number of features')\n",
    "plt.ylabel('Quality score %')\n",
    "plt.show()"
   ]
  },
  {
   "cell_type": "code",
   "execution_count": null,
   "metadata": {
    "collapsed": true
   },
   "outputs": [],
   "source": [
    "x_labels = []\n",
    "y_labels = []\n",
    "for i in rrange(4, 30):\n",
    "    x_labels.append(i)\n",
    "    rand_forest = ensemble.RandomForestClassifier(max_depth=i)\n",
    "    y_labels.append(kachestvo(rand_forest))\n",
    "    \n",
    "plt.plot(x_labels, y_labels)\n",
    "plt.title('Max depth test')\n",
    "plt.xlabel('Depth')\n",
    "plt.ylabel('Quality score %')\n",
    "plt.show()"
   ]
  },
  {
   "cell_type": "markdown",
   "metadata": {},
   "source": [
    "** На основе наблюдений делаем вывод: **\n",
    "\n",
    "a. При очень маленьком числе деревьев (5, 10, 15), случайный лес работает хуже, чем при большем числе деревьев\n",
    "\n",
    "b. С ростом количества деревьев в случайном лесе, в какой-то момент деревьев становится достаточно для высокого качества классификации, а затем качество существенно не меняется.\n",
    "\n",
    "c. При большом количестве признаков (для данного датасета - 40, 50) качество классификации становится хуже, чем при малом количестве признаков (5, 10). Это связано с тем, что чем меньше признаков выбирается в каждом узле, тем более различными получаются деревья (ведь деревья сильно неустойчивы к изменениям в обучающей выборке), и тем лучше работает их композиция.\n",
    "\n",
    "d. При небольшой максимальной глубине деревьев (5-6) качество работы случайного леса заметно хуже, чем без ограничений, т.к. деревья получаются недообученными. С ростом глубины качество сначала улучшается, а затем не меняется существенно, т.к. из-за усреднения прогнозов и различий деревьев их переобученность в бэггинге не сказывается на итоговом качестве (все деревья преобучены по-разному, и при усреднении они компенсируют переобученность друг-друга)."
   ]
  }
 ],
 "metadata": {
  "kernelspec": {
   "display_name": "Python 2",
   "language": "python",
   "name": "python2"
  },
  "language_info": {
   "codemirror_mode": {
    "name": "ipython",
    "version": 2
   },
   "file_extension": ".py",
   "mimetype": "text/x-python",
   "name": "python",
   "nbconvert_exporter": "python",
   "pygments_lexer": "ipython2",
   "version": "2.7.11"
  }
 },
 "nbformat": 4,
 "nbformat_minor": 0
}
